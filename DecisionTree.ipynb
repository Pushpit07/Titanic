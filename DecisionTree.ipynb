{
  "nbformat": 4,
  "nbformat_minor": 0,
  "metadata": {
    "colab": {
      "name": "DecisionTree.ipynb",
      "provenance": [],
      "authorship_tag": "ABX9TyMK7O19eB1JM9wnyh7iJjf4",
      "include_colab_link": true
    },
    "kernelspec": {
      "name": "python3",
      "display_name": "Python 3"
    },
    "language_info": {
      "name": "python"
    }
  },
  "cells": [
    {
      "cell_type": "markdown",
      "metadata": {
        "id": "view-in-github",
        "colab_type": "text"
      },
      "source": [
        "<a href=\"https://colab.research.google.com/github/Pushpit07/Titanic/blob/main/DecisionTree.ipynb\" target=\"_parent\"><img src=\"https://colab.research.google.com/assets/colab-badge.svg\" alt=\"Open In Colab\"/></a>"
      ]
    },
    {
      "cell_type": "code",
      "metadata": {
        "id": "6YXDaMkqurdU"
      },
      "source": [
        "import sklearn\n",
        "from sklearn.tree import DecisionTreeClassifier\n",
        "from sklearn.model_selection import train_test_split"
      ],
      "execution_count": 5,
      "outputs": []
    },
    {
      "cell_type": "code",
      "metadata": {
        "id": "ZYnNQfntwV9W"
      },
      "source": [
        "sk_tree = DecisionTreeClassifier(criterion='entropy', max_depth=5)"
      ],
      "execution_count": 6,
      "outputs": []
    },
    {
      "cell_type": "code",
      "metadata": {
        "colab": {
          "base_uri": "https://localhost:8080/",
          "height": 183
        },
        "id": "2db8hf44wou0",
        "outputId": "8458cdb1-b44e-42ed-aab8-2fc686ca27bc"
      },
      "source": [
        "X_train, X_test, y_train, y_test = train_test_split(\n",
        "...     X, y, test_size=0.33, random_state=42)"
      ],
      "execution_count": 8,
      "outputs": [
        {
          "output_type": "error",
          "ename": "NameError",
          "evalue": "ignored",
          "traceback": [
            "\u001b[0;31m---------------------------------------------------------------------------\u001b[0m",
            "\u001b[0;31mNameError\u001b[0m                                 Traceback (most recent call last)",
            "\u001b[0;32m<ipython-input-8-d0ea56facf53>\u001b[0m in \u001b[0;36m<module>\u001b[0;34m()\u001b[0m\n\u001b[1;32m      1\u001b[0m X_train, X_test, y_train, y_test = train_test_split(\n\u001b[0;32m----> 2\u001b[0;31m     X, y, test_size=0.33, random_state=42)\n\u001b[0m",
            "\u001b[0;31mNameError\u001b[0m: name 'X' is not defined"
          ]
        }
      ]
    },
    {
      "cell_type": "code",
      "metadata": {
        "colab": {
          "base_uri": "https://localhost:8080/",
          "height": 166
        },
        "id": "-Jz32L66w23g",
        "outputId": "cf7ff75e-2d58-4f01-8fd0-7895b2966ad2"
      },
      "source": [
        "sk_tree.fit(X_train, y_train)"
      ],
      "execution_count": 9,
      "outputs": [
        {
          "output_type": "error",
          "ename": "NameError",
          "evalue": "ignored",
          "traceback": [
            "\u001b[0;31m---------------------------------------------------------------------------\u001b[0m",
            "\u001b[0;31mNameError\u001b[0m                                 Traceback (most recent call last)",
            "\u001b[0;32m<ipython-input-9-459587fd99c1>\u001b[0m in \u001b[0;36m<module>\u001b[0;34m()\u001b[0m\n\u001b[0;32m----> 1\u001b[0;31m \u001b[0msk_tree\u001b[0m\u001b[0;34m.\u001b[0m\u001b[0mfit\u001b[0m\u001b[0;34m(\u001b[0m\u001b[0mX_train\u001b[0m\u001b[0;34m,\u001b[0m \u001b[0my_train\u001b[0m\u001b[0;34m)\u001b[0m\u001b[0;34m\u001b[0m\u001b[0;34m\u001b[0m\u001b[0m\n\u001b[0m",
            "\u001b[0;31mNameError\u001b[0m: name 'X_train' is not defined"
          ]
        }
      ]
    },
    {
      "cell_type": "code",
      "metadata": {
        "colab": {
          "base_uri": "https://localhost:8080/",
          "height": 166
        },
        "id": "edxpT8w2w90q",
        "outputId": "90302b09-850a-4fa5-d5b7-b3a16ef13760"
      },
      "source": [
        "sk_tree.score(X_test, y_test)"
      ],
      "execution_count": 10,
      "outputs": [
        {
          "output_type": "error",
          "ename": "NameError",
          "evalue": "ignored",
          "traceback": [
            "\u001b[0;31m---------------------------------------------------------------------------\u001b[0m",
            "\u001b[0;31mNameError\u001b[0m                                 Traceback (most recent call last)",
            "\u001b[0;32m<ipython-input-10-f56c791b598f>\u001b[0m in \u001b[0;36m<module>\u001b[0;34m()\u001b[0m\n\u001b[0;32m----> 1\u001b[0;31m \u001b[0msk_tree\u001b[0m\u001b[0;34m.\u001b[0m\u001b[0mscore\u001b[0m\u001b[0;34m(\u001b[0m\u001b[0mX_test\u001b[0m\u001b[0;34m,\u001b[0m \u001b[0my_test\u001b[0m\u001b[0;34m)\u001b[0m\u001b[0;34m\u001b[0m\u001b[0;34m\u001b[0m\u001b[0m\n\u001b[0m",
            "\u001b[0;31mNameError\u001b[0m: name 'X_test' is not defined"
          ]
        }
      ]
    },
    {
      "cell_type": "code",
      "metadata": {
        "colab": {
          "base_uri": "https://localhost:8080/",
          "height": 166
        },
        "id": "ATZdTmcmxuVI",
        "outputId": "ee7c313a-7469-4845-98c7-67dd14dffdfa"
      },
      "source": [
        "sk_tree.predict(X_test[:10])"
      ],
      "execution_count": 11,
      "outputs": [
        {
          "output_type": "error",
          "ename": "NameError",
          "evalue": "ignored",
          "traceback": [
            "\u001b[0;31m---------------------------------------------------------------------------\u001b[0m",
            "\u001b[0;31mNameError\u001b[0m                                 Traceback (most recent call last)",
            "\u001b[0;32m<ipython-input-11-0ad263bca431>\u001b[0m in \u001b[0;36m<module>\u001b[0;34m()\u001b[0m\n\u001b[0;32m----> 1\u001b[0;31m \u001b[0msk_tree\u001b[0m\u001b[0;34m.\u001b[0m\u001b[0mpredict\u001b[0m\u001b[0;34m(\u001b[0m\u001b[0mX_test\u001b[0m\u001b[0;34m[\u001b[0m\u001b[0;34m:\u001b[0m\u001b[0;36m10\u001b[0m\u001b[0;34m]\u001b[0m\u001b[0;34m)\u001b[0m\u001b[0;34m\u001b[0m\u001b[0;34m\u001b[0m\u001b[0m\n\u001b[0m",
            "\u001b[0;31mNameError\u001b[0m: name 'X_test' is not defined"
          ]
        }
      ]
    },
    {
      "cell_type": "code",
      "metadata": {
        "colab": {
          "base_uri": "https://localhost:8080/",
          "height": 166
        },
        "id": "BJY1-41lxv5s",
        "outputId": "da6f9996-853d-4f4f-f621-05fab22b5f4c"
      },
      "source": [
        "y_test[:10]"
      ],
      "execution_count": 12,
      "outputs": [
        {
          "output_type": "error",
          "ename": "NameError",
          "evalue": "ignored",
          "traceback": [
            "\u001b[0;31m---------------------------------------------------------------------------\u001b[0m",
            "\u001b[0;31mNameError\u001b[0m                                 Traceback (most recent call last)",
            "\u001b[0;32m<ipython-input-12-afb1297a6a30>\u001b[0m in \u001b[0;36m<module>\u001b[0;34m()\u001b[0m\n\u001b[0;32m----> 1\u001b[0;31m \u001b[0my_test\u001b[0m\u001b[0;34m[\u001b[0m\u001b[0;34m:\u001b[0m\u001b[0;36m10\u001b[0m\u001b[0;34m]\u001b[0m\u001b[0;34m\u001b[0m\u001b[0;34m\u001b[0m\u001b[0m\n\u001b[0m",
            "\u001b[0;31mNameError\u001b[0m: name 'y_test' is not defined"
          ]
        }
      ]
    },
    {
      "cell_type": "markdown",
      "metadata": {
        "id": "R1jtHiCjyrRq"
      },
      "source": [
        "# Custom Implementation"
      ]
    },
    {
      "cell_type": "code",
      "metadata": {
        "id": "xbRgKm_lxyeI"
      },
      "source": [
        "class DecisionTree:\n",
        "    \n",
        "    def __init__(self, depth=0, max_depth=5):\n",
        "        self.left = None\n",
        "        self.right = None\n",
        "        self.fkey = None\n",
        "        self.fval = None\n",
        "        self.max_depth = max_depth\n",
        "        self.depth = depth\n",
        "        self.target = None # what i'm going to predict at a particular Node, say leaf node has 50 examples (40 Y and 10 N), \n",
        "                           # then target of this leaf node is Y (80% accuracy)\n",
        "        \n",
        "    def fit(self, X_train):\n",
        "        features = ['Pclass', 'Sex', 'Age', 'SibSp', 'Parch', 'Fare']\n",
        "        info_gains = []\n",
        "        \n",
        "        for ix in features:\n",
        "            i_gain = information_gain(X_train, ix, X_train[ix].mean())\n",
        "            info_gains.append(i_gain)\n",
        "\n",
        "        self.fkey = features[np.argmax(info_gains)]\n",
        "        self.fval = X_train[self.fkey].mean()\n",
        "        # print(\"Making tree feature is \", self.fkey)\n",
        "        \n",
        "        # split data\n",
        "        data_left, data_right = divide_data(X_train, self.fkey, self.fval)\n",
        "        # reset_index will reset the index again from starting for each subpart\n",
        "        data_left = data_left.reset_index(drop=True)\n",
        "        data_right = data_right.reset_index(drop=True)\n",
        "        \n",
        "        # Base Cases:\n",
        "        # 1. reached leaf node\n",
        "        if data_left.shape[0] == 0 or data_right.shape[0] == 0:\n",
        "            if X_train.Survived.mean() >= 0.5:\n",
        "                self.target = \"Survived\"\n",
        "            else:\n",
        "                self.target = \"Dead\"\n",
        "            return\n",
        "                \n",
        "        # 2. stop early when depth >= max_depth\n",
        "        if self.depth >= self.max_depth:\n",
        "            if X_train.Survived.mean() >= 0.5:\n",
        "                self.target = \"Survived\"\n",
        "            else:\n",
        "                self.target = \"Dead\"\n",
        "            return\n",
        "    \n",
        "        # Recursion\n",
        "        self.left = DecisionTree(depth=self.depth + 1)\n",
        "        self.left.fit(data_left)\n",
        "        \n",
        "        self.right = DecisionTree(depth=self.depth + 1)\n",
        "        self.right.fit(data_right)\n",
        "        \n",
        "        # You can set target at every node and not just leaf node\n",
        "        if X_train.Survived.mean() >= 0.5:\n",
        "            self.target = \"Survived\"\n",
        "        else:\n",
        "            self.target = \"Dead\"\n",
        "        return\n",
        "    \n",
        "    def predict(self, test):\n",
        "        if test[self.fkey] > self.fval:\n",
        "            # go to right\n",
        "            if self.right is None:\n",
        "                return self.target\n",
        "            return self.right.predict(test)\n",
        "        else:\n",
        "            if self.left is None:\n",
        "                return self.target\n",
        "            return self.left.predict(test)"
      ],
      "execution_count": 13,
      "outputs": []
    },
    {
      "cell_type": "code",
      "metadata": {
        "id": "7SwqqZy02tBu"
      },
      "source": [
        ""
      ],
      "execution_count": null,
      "outputs": []
    }
  ]
}